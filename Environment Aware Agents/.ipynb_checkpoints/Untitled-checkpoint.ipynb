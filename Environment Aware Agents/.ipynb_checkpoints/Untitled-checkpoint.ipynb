{
 "cells": [
  {
   "cell_type": "code",
   "execution_count": 1,
   "metadata": {},
   "outputs": [],
   "source": [
    "import random"
   ]
  },
  {
   "cell_type": "code",
   "execution_count": null,
   "metadata": {},
   "outputs": [],
   "source": [
    "class Agent:\n",
    "    def __init__(self,env):\n",
    "        self.env = env\n",
    "        self.visited = [0]*(self.env.row*self.env.col)\n",
    "        \n",
    "    \n",
    "    def move(self):\n",
    "        "
   ]
  },
  {
   "cell_type": "code",
   "execution_count": null,
   "metadata": {},
   "outputs": [],
   "source": [
    "class Environment:\n",
    "    def __init__(self):\n",
    "        self.row = 4\n",
    "        self.col = 4\n",
    "        self.env = [\"B\",\"G\"]\n",
    "        self.start = [0,0]\n",
    "        \n",
    "        #initialise the environment\n",
    "        matrix = []\n",
    "        for i in range(self.row):\n",
    "            matrix.append([\"\" for i in range(self.col)])\n",
    "        \n",
    "        #assign the variables to positions\n",
    "        #gold\n",
    "        grow = randomize(self.row); gcol = randomize(self.col)\n",
    "        if (not matrix[grow][gcol] and self.start[0]!=grow and self.start[1]!=gcol):\n",
    "            matrix[grow][gcol] = \"G\"\n",
    "        \n",
    "        \n",
    "    def randomize(self,num):\n",
    "        return random.randint(num)"
   ]
  },
  {
   "cell_type": "code",
   "execution_count": null,
   "metadata": {},
   "outputs": [],
   "source": [
    "env = Environment()\n",
    "agent = Agent(env)\n",
    "\n",
    "agent.move()"
   ]
  },
  {
   "cell_type": "code",
   "execution_count": null,
   "metadata": {},
   "outputs": [],
   "source": []
  }
 ],
 "metadata": {
  "kernelspec": {
   "display_name": "Python 3",
   "language": "python",
   "name": "python3"
  },
  "language_info": {
   "codemirror_mode": {
    "name": "ipython",
    "version": 3
   },
   "file_extension": ".py",
   "mimetype": "text/x-python",
   "name": "python",
   "nbconvert_exporter": "python",
   "pygments_lexer": "ipython3",
   "version": "3.8.5"
  }
 },
 "nbformat": 4,
 "nbformat_minor": 4
}
