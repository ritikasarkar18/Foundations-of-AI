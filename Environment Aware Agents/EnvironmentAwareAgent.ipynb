{
 "cells": [
  {
   "cell_type": "code",
   "execution_count": 4,
   "metadata": {},
   "outputs": [],
   "source": [
    "import random"
   ]
  },
  {
   "cell_type": "code",
   "execution_count": 17,
   "metadata": {},
   "outputs": [],
   "source": [
    "class Env_Aware_Agent:\n",
    "    def __init__(self):\n",
    "        self.pos = 0\n",
    "        \n",
    "    def move(self,env):\n",
    "        num = env.get_limit()\n",
    "        print(\"LIMIT is \",num)\n",
    "        print(\"\\nThe current position is \", self.pos)\n",
    "        prop = env.get_property(self.pos)\n",
    "\n",
    "        while self.pos+1<num:\n",
    "            \n",
    "            if prop == \"O\":\n",
    "                print(\"Have to jump from \", prop)\n",
    "                self.pos+=2\n",
    "                print(\"The current position after jumping is \", self.pos)\n",
    "            elif prop ==\"F\":\n",
    "                print(\"Going to walk from \", prop)\n",
    "                self.pos+=1\n",
    "                print(\"The current position after walking is \", self.pos)\n",
    "                \n",
    "            if self.pos==num:\n",
    "                print(\"Reached the end of the road\")\n",
    "            self.next_pos()\n",
    "            prop = env.get_property(self.pos+1)            \n",
    "            \n",
    "            \n",
    "    def next_pos(self):\n",
    "        print(\"The next position is \", self.pos+1,\"\\n\")"
   ]
  },
  {
   "cell_type": "code",
   "execution_count": 18,
   "metadata": {},
   "outputs": [],
   "source": [
    "class Environment:\n",
    "    def __init__(self):\n",
    "        self.limit = 60\n",
    "        self.property = {}\n",
    "        self.env = [\"O\",\"F\"]\n",
    "        pos = 0\n",
    "        while pos<self.limit:\n",
    "            self.property[pos] = random.choice(self.env)\n",
    "            \n",
    "            if self.property[pos] == self.env[0]:\n",
    "                self.property[pos+1] = self.env[1]\n",
    "                self.property[pos+2] = self.env[1]\n",
    "                pos+=3\n",
    "            else:\n",
    "                pos+=1\n",
    "            \n",
    "    def get_limit(self):\n",
    "        return self.limit\n",
    "    \n",
    "    def get_property(self,pos):\n",
    "        return self.property[pos]\n",
    "        "
   ]
  },
  {
   "cell_type": "code",
   "execution_count": 19,
   "metadata": {},
   "outputs": [
    {
     "output_type": "stream",
     "name": "stdout",
     "text": [
      "O F F F F F F F F F F O F F O F F F O F F F F O F F O F F F O F F F F O F F F O F F F F F F O F F O F F O F F O F F F O "
     ]
    }
   ],
   "source": [
    "agent = Env_Aware_Agent()\n",
    "env = Environment()\n",
    "for i in range(60):\n",
    "    print(env.get_property(i), end=\" \")\n"
   ]
  },
  {
   "cell_type": "code",
   "execution_count": 20,
   "metadata": {},
   "outputs": [
    {
     "output_type": "stream",
     "name": "stdout",
     "text": [
      "LIMIT is  60\n\nThe current position is  0\nHave to jump from  O\nThe current position after jumping is  2\nThe next position is  3 \n\nGoing to walk from  F\nThe current position after walking is  3\nThe next position is  4 \n\nGoing to walk from  F\nThe current position after walking is  4\nThe next position is  5 \n\nGoing to walk from  F\nThe current position after walking is  5\nThe next position is  6 \n\nGoing to walk from  F\nThe current position after walking is  6\nThe next position is  7 \n\nGoing to walk from  F\nThe current position after walking is  7\nThe next position is  8 \n\nGoing to walk from  F\nThe current position after walking is  8\nThe next position is  9 \n\nGoing to walk from  F\nThe current position after walking is  9\nThe next position is  10 \n\nGoing to walk from  F\nThe current position after walking is  10\nThe next position is  11 \n\nHave to jump from  O\nThe current position after jumping is  12\nThe next position is  13 \n\nGoing to walk from  F\nThe current position after walking is  13\nThe next position is  14 \n\nHave to jump from  O\nThe current position after jumping is  15\nThe next position is  16 \n\nGoing to walk from  F\nThe current position after walking is  16\nThe next position is  17 \n\nGoing to walk from  F\nThe current position after walking is  17\nThe next position is  18 \n\nHave to jump from  O\nThe current position after jumping is  19\nThe next position is  20 \n\nGoing to walk from  F\nThe current position after walking is  20\nThe next position is  21 \n\nGoing to walk from  F\nThe current position after walking is  21\nThe next position is  22 \n\nGoing to walk from  F\nThe current position after walking is  22\nThe next position is  23 \n\nHave to jump from  O\nThe current position after jumping is  24\nThe next position is  25 \n\nGoing to walk from  F\nThe current position after walking is  25\nThe next position is  26 \n\nHave to jump from  O\nThe current position after jumping is  27\nThe next position is  28 \n\nGoing to walk from  F\nThe current position after walking is  28\nThe next position is  29 \n\nGoing to walk from  F\nThe current position after walking is  29\nThe next position is  30 \n\nHave to jump from  O\nThe current position after jumping is  31\nThe next position is  32 \n\nGoing to walk from  F\nThe current position after walking is  32\nThe next position is  33 \n\nGoing to walk from  F\nThe current position after walking is  33\nThe next position is  34 \n\nGoing to walk from  F\nThe current position after walking is  34\nThe next position is  35 \n\nHave to jump from  O\nThe current position after jumping is  36\nThe next position is  37 \n\nGoing to walk from  F\nThe current position after walking is  37\nThe next position is  38 \n\nGoing to walk from  F\nThe current position after walking is  38\nThe next position is  39 \n\nHave to jump from  O\nThe current position after jumping is  40\nThe next position is  41 \n\nGoing to walk from  F\nThe current position after walking is  41\nThe next position is  42 \n\nGoing to walk from  F\nThe current position after walking is  42\nThe next position is  43 \n\nGoing to walk from  F\nThe current position after walking is  43\nThe next position is  44 \n\nGoing to walk from  F\nThe current position after walking is  44\nThe next position is  45 \n\nGoing to walk from  F\nThe current position after walking is  45\nThe next position is  46 \n\nHave to jump from  O\nThe current position after jumping is  47\nThe next position is  48 \n\nGoing to walk from  F\nThe current position after walking is  48\nThe next position is  49 \n\nHave to jump from  O\nThe current position after jumping is  50\nThe next position is  51 \n\nGoing to walk from  F\nThe current position after walking is  51\nThe next position is  52 \n\nHave to jump from  O\nThe current position after jumping is  53\nThe next position is  54 \n\nGoing to walk from  F\nThe current position after walking is  54\nThe next position is  55 \n\nHave to jump from  O\nThe current position after jumping is  56\nThe next position is  57 \n\nGoing to walk from  F\nThe current position after walking is  57\nThe next position is  58 \n\nGoing to walk from  F\nThe current position after walking is  58\nThe next position is  59 \n\nHave to jump from  O\nThe current position after jumping is  60\nReached the end of the road\nThe next position is  61 \n\n"
     ]
    }
   ],
   "source": [
    "agent.move(env)"
   ]
  },
  {
   "cell_type": "code",
   "execution_count": null,
   "metadata": {},
   "outputs": [],
   "source": []
  }
 ],
 "metadata": {
  "kernelspec": {
   "name": "python385jvsc74a57bd025a7ba07709abf57b8c8aeb8189083640eb083e7b7ca61443ddec8cc5a38b856",
   "display_name": "Python 3.8.5 64-bit"
  },
  "language_info": {
   "codemirror_mode": {
    "name": "ipython",
    "version": 3
   },
   "file_extension": ".py",
   "mimetype": "text/x-python",
   "name": "python",
   "nbconvert_exporter": "python",
   "pygments_lexer": "ipython3",
   "version": "3.8.5-final"
  }
 },
 "nbformat": 4,
 "nbformat_minor": 4
}