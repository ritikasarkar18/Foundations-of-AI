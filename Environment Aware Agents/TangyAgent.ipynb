{
 "metadata": {
  "language_info": {
   "codemirror_mode": {
    "name": "ipython",
    "version": 3
   },
   "file_extension": ".py",
   "mimetype": "text/x-python",
   "name": "python",
   "nbconvert_exporter": "python",
   "pygments_lexer": "ipython3",
   "version": "3.8.5-final"
  },
  "orig_nbformat": 2,
  "kernelspec": {
   "name": "python385jvsc74a57bd025a7ba07709abf57b8c8aeb8189083640eb083e7b7ca61443ddec8cc5a38b856",
   "display_name": "Python 3.8.5 64-bit"
  }
 },
 "nbformat": 4,
 "nbformat_minor": 2,
 "cells": [
  {
   "cell_type": "code",
   "execution_count": 13,
   "metadata": {},
   "outputs": [],
   "source": [
    "import random\n",
    "class Env_Aware_Agent:\n",
    "    def __init__(self):\n",
    "        self.pos = 0\n",
    "        \n",
    "    def move(self,env):\n",
    "        num = env.get_limit()\n",
    "        print(\"LIMIT is \",num)\n",
    "        print(\"\\nThe current position is \", self.pos)\n",
    "        while self.pos+1<num:\n",
    "            prop = env.get_property(self.pos+1)\n",
    "            self.curr_pos()\n",
    "            if prop == \"T\":\n",
    "                ch = random.choice([0,1])\n",
    "                if (ch):\n",
    "                    print(\"##### Eating Tangy #####\")\n",
    "                else:\n",
    "                    print(\"@@@@@ Jumping Tangy @@@@@\")\n",
    "                self.pos+=1\n",
    "                \n",
    "            elif prop ==\"S\":\n",
    "                print(\"Eating sweet .... \")\n",
    "                print(\"Eating sweet .... \")\n",
    "                self.pos+=2\n",
    "                \n",
    "            elif prop == \"F\":\n",
    "                print(\"_&_&_Walking_&_&_\")\n",
    "                self.pos+=1\n",
    "                \n",
    "            if self.pos==num-1:\n",
    "                print(\"I am currently at position \",self.pos+1)\n",
    "            \n",
    "            \n",
    "    def curr_pos(self):\n",
    "        print(\"\\nThe next position is \", self.pos+1)"
   ]
  },
  {
   "cell_type": "code",
   "execution_count": 14,
   "metadata": {},
   "outputs": [],
   "source": [
    "class Environment:\n",
    "    def __init__(self):\n",
    "        self.limit = 30\n",
    "        self.property = {}\n",
    "        self.env = [\"F\",\"S\",\"T\"]\n",
    "        pos = 0\n",
    "        while pos<self.limit:\n",
    "            self.property[pos] = random.choice(self.env)\n",
    "            pos+=1\n",
    "            \n",
    "    def get_limit(self):\n",
    "        return self.limit\n",
    "    \n",
    "    def get_property(self,pos):\n",
    "        return self.property[pos]\n",
    "        "
   ]
  },
  {
   "cell_type": "code",
   "execution_count": 15,
   "metadata": {},
   "outputs": [
    {
     "output_type": "stream",
     "name": "stdout",
     "text": [
      "T F F T F F S F F F F T T T T S S F T F S T S F S S T F T T "
     ]
    }
   ],
   "source": [
    "agent = Env_Aware_Agent()\n",
    "env = Environment()\n",
    "for i in range(30):\n",
    "    print(env.get_property(i), end=\" \")\n"
   ]
  },
  {
   "cell_type": "code",
   "execution_count": 16,
   "metadata": {},
   "outputs": [
    {
     "output_type": "stream",
     "name": "stdout",
     "text": [
      "LIMIT is  30\n\nThe current position is  0\n\nThe next position is  1\n_&_&_Walking_&_&_\n\nThe next position is  2\n_&_&_Walking_&_&_\n\nThe next position is  3\n##### Eating Tangy #####\n\nThe next position is  4\n_&_&_Walking_&_&_\n\nThe next position is  5\n_&_&_Walking_&_&_\n\nThe next position is  6\nEating sweet .... \nEating sweet .... \n\nThe next position is  8\n_&_&_Walking_&_&_\n\nThe next position is  9\n_&_&_Walking_&_&_\n\nThe next position is  10\n_&_&_Walking_&_&_\n\nThe next position is  11\n##### Eating Tangy #####\n\nThe next position is  12\n##### Eating Tangy #####\n\nThe next position is  13\n##### Eating Tangy #####\n\nThe next position is  14\n##### Eating Tangy #####\n\nThe next position is  15\nEating sweet .... \nEating sweet .... \n\nThe next position is  17\n_&_&_Walking_&_&_\n\nThe next position is  18\n@@@@@ Jumping Tangy @@@@@\n\nThe next position is  19\n_&_&_Walking_&_&_\n\nThe next position is  20\nEating sweet .... \nEating sweet .... \n\nThe next position is  22\nEating sweet .... \nEating sweet .... \n\nThe next position is  24\nEating sweet .... \nEating sweet .... \n\nThe next position is  26\n@@@@@ Jumping Tangy @@@@@\n\nThe next position is  27\n_&_&_Walking_&_&_\n\nThe next position is  28\n##### Eating Tangy #####\n\nThe next position is  29\n@@@@@ Jumping Tangy @@@@@\nI am currently at position  30\n"
     ]
    }
   ],
   "source": [
    "agent.move(env)"
   ]
  },
  {
   "cell_type": "code",
   "execution_count": null,
   "metadata": {},
   "outputs": [],
   "source": []
  }
 ]
}