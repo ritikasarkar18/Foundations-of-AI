{
 "cells": [
  {
   "cell_type": "markdown",
   "metadata": {},
   "source": [
    "<h3>Simple Reflex Agent Application as a Vacuum Agent</h3>"
   ]
  },
  {
   "cell_type": "code",
   "execution_count": 2,
   "metadata": {},
   "outputs": [],
   "source": [
    "import random"
   ]
  },
  {
   "cell_type": "code",
   "execution_count": 65,
   "metadata": {},
   "outputs": [],
   "source": [
    "class Environment:\n",
    "    def __init__(self):\n",
    "        self.limit = 100 # time to drain battery\n",
    "        self.locState = {'Kitchen':'0','Drawing':'0','Bedroom':'0','Guestroom':'0'}\n",
    "        self.location = list(self.locState.keys())\n",
    "        # 0 means not dirty and 1 means dirty\n",
    "        self.locState['Kitchen'] = random.randint(0,1)\n",
    "        self.locState['Drawing'] = random.randint(0,1)\n",
    "        self.locState['Bedroom'] = random.randint(0,1)\n",
    "        self.locState['Guestroom'] = random.randint(0,1)\n",
    "    \n",
    "    def get_locationState(self,pos):\n",
    "        return self.locState[pos]\n",
    "    \n",
    "    def get_limit(self):\n",
    "        return self.limit\n",
    "    \n",
    "    def get_locations(self):\n",
    "        return self.location\n",
    "    \n",
    "    def set_locationState(self, pos, val):\n",
    "        self.locState[pos] = val"
   ]
  },
  {
   "cell_type": "code",
   "execution_count": 72,
   "metadata": {},
   "outputs": [],
   "source": [
    "class SimplerAgent:\n",
    "    def __init__(self):\n",
    "        self.c=0\n",
    "    \n",
    "    def move(self,env):\n",
    "        loc = env.get_locations()\n",
    "        self.printer(env,loc)\n",
    "        #place vacuum\n",
    "        vacuum = random.choice(loc)\n",
    "        visited = dict(zip(loc,[0]*len(loc)))\n",
    "        print(\"Vacuum placed at location \",vacuum,\"\\n\")\n",
    "        \n",
    "        for i in range(env.get_limit()):\n",
    "            if (visited[vacuum]!=1):\n",
    "                if env.get_locationState(vacuum)==1:\n",
    "                    self.clean(vacuum,env)\n",
    "                    visited[vacuum] = 1\n",
    "                    \n",
    "                else:\n",
    "                    print(\"Location \",vacuum, \"is clean :)\")\n",
    "                    visited[vacuum] = 1\n",
    "                \n",
    "                vacuum = loc[random.randint(0,10)%(len(loc))]\n",
    "                    \n",
    "                if(i<env.get_limit()-1):\n",
    "                    print(\"Going to next location--->>> \\n\")\n",
    "                    continue\n",
    "\n",
    "        s = 0 \n",
    "        for i in loc:\n",
    "            s += env.get_locationState(i)\n",
    "        \n",
    "        if s == 0:\n",
    "        \n",
    "            if (self.c==len(loc)):\n",
    "                print(\"Vacuum agent cleaned all the rooms!!!\")\n",
    "            elif self.c>0 and self.c<len(loc):\n",
    "                print(\"Vacuum agent cleaned some rooms and some were already clean!\")\n",
    "            else: \n",
    "                print(\"All rooms are already clean!!\")\n",
    "        else:\n",
    "            print(\"Some rooms are still dirty but battery drained out in vacuum agent :(\")\n",
    "                    \n",
    "        \n",
    "    def clean(self,vacuum,env):\n",
    "        print(\"Location \",vacuum,\" is dirty :(\")\n",
    "        print(\"****------CLEANING------****\")\n",
    "        env.set_locationState(vacuum,0)\n",
    "        self.c += 1\n",
    "        print(\"Cleaning complete at location \",vacuum,\" :)\")\n",
    "        \n",
    "        \n",
    "        \n",
    "    def printer(self,env,loc):\n",
    "        print(\"The environment condition is : \")\n",
    "        for i in loc:\n",
    "            print(i,\": \",env.get_locationState(i))\n",
    "            \n",
    "        print(\"\\n\")"
   ]
  },
  {
   "cell_type": "code",
   "execution_count": 75,
   "metadata": {},
   "outputs": [
    {
     "name": "stdout",
     "output_type": "stream",
     "text": [
      "The environment condition is : \n",
      "Kitchen :  1\n",
      "Drawing :  1\n",
      "Bedroom :  0\n",
      "Guestroom :  1\n",
      "\n",
      "\n",
      "Vacuum placed at location  Bedroom \n",
      "\n",
      "Location  Bedroom is clean :)\n",
      "Going to next location--->>> \n",
      "\n",
      "Some rooms are still dirty but battery drained out in vacuum agent :(\n"
     ]
    }
   ],
   "source": [
    "v_agent = SimplerAgent()\n",
    "v_env = Environment()\n",
    "\n",
    "v_agent.move(v_env)"
   ]
  },
  {
   "cell_type": "code",
   "execution_count": null,
   "metadata": {},
   "outputs": [],
   "source": []
  },
  {
   "cell_type": "code",
   "execution_count": null,
   "metadata": {},
   "outputs": [],
   "source": []
  }
 ],
 "metadata": {
  "kernelspec": {
   "display_name": "Python 3",
   "language": "python",
   "name": "python3"
  },
  "language_info": {
   "codemirror_mode": {
    "name": "ipython",
    "version": 3
   },
   "file_extension": ".py",
   "mimetype": "text/x-python",
   "name": "python",
   "nbconvert_exporter": "python",
   "pygments_lexer": "ipython3",
   "version": "3.8.5"
  }
 },
 "nbformat": 4,
 "nbformat_minor": 4
}
